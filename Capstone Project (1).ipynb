{
 "cells": [
  {
   "cell_type": "code",
   "execution_count": 11,
   "id": "8eba1604-30c8-4849-bdc3-dc5e46cc9eee",
   "metadata": {},
   "outputs": [
    {
     "name": "stdout",
     "output_type": "stream",
     "text": [
      "DataFrames created and saved as .csv files.\n"
     ]
    }
   ],
   "source": [
    "\n",
    "#Task 1\n",
    "import pandas as pd\n",
    "import numpy as np\n",
    "\n",
    "# Project DataFrame\n",
    "project_data = {\n",
    "    'ID': ['A001', 'A002', 'A003', 'A004', 'A005', 'A002', 'A003', 'A005', 'A001', 'A003', 'A001', 'A004', 'A004', 'A005'],\n",
    "    'Project': ['Project 1', 'Project 2', 'Project 3', 'Project 4', 'Project 5', 'Project 6', 'Project 7', 'Project 8', 'Project 9', 'Project 10', 'Project 11', 'Project 12', 'Project 13', 'Project 14'],\n",
    "    'Cost': [1002000, 2000000, 4500000, 5500000, np.nan, 680000, 400000, 350000, np.nan, 3000000, 2000000, 1000000, 3000000, 2000000],\n",
    "    'Status': ['Finished', 'Ongoing', 'Finished', 'Ongoing', 'Finished', 'Failed', 'Finished', 'Failed', 'Ongoing', 'Finished', 'Failed', 'Ongoing', 'Finished', 'Finished']\n",
    "}\n",
    "project_df = pd.DataFrame(project_data)\n",
    "\n",
    "# Employee DataFrame\n",
    "employee_data = {\n",
    "    'ID': ['A001', 'A002', 'A003', 'A004', 'A005'],\n",
    "    'Name': ['John Alter', 'Alice Luxemburg', 'Tom Sabestine', 'Nina Adgra', 'Amy Johny'],\n",
    "    'Gender': ['M', 'F', 'M', 'F', 'F'],\n",
    "    'City': ['Paris', 'London', 'Berlin', 'Newyork', 'Madrid'],\n",
    "    'Age': [25, 27, 29, 31, 30]\n",
    "}\n",
    "employee_df = pd.DataFrame(employee_data)\n",
    "\n",
    "# Seniority Level DataFrame\n",
    "seniority_data = {\n",
    "    'ID': ['A001', 'A002', 'A003', 'A004', 'A005'],\n",
    "    'Designation Level': [2, 2, 3, 2, 3]\n",
    "}\n",
    "seniority_df = pd.DataFrame(seniority_data)\n",
    "\n",
    "# Save DataFrames to CSV files\n",
    "project_df.to_csv('project.csv', index=False)\n",
    "employee_df.to_csv('employee.csv', index=False)\n",
    "seniority_df.to_csv('seniority.csv', index=False)\n",
    "\n",
    "print(\"DataFrames created and saved as .csv files.\")"
   ]
  },
  {
   "cell_type": "code",
   "execution_count": 12,
   "id": "6cc1deed-3c11-4687-9274-cf69b16b1dda",
   "metadata": {},
   "outputs": [
    {
     "name": "stdout",
     "output_type": "stream",
     "text": [
      "\n",
      "Task 2: Missing 'Cost' values in 'project.csv' filled using running average.\n",
      "     ID     Project     Cost    Status\n",
      "0  A001   Project 1  1002000  Finished\n",
      "1  A002   Project 2  2000000   Ongoing\n",
      "2  A003   Project 3  4500000  Finished\n",
      "3  A004   Project 4  5500000   Ongoing\n",
      "4  A005   Project 5  3250500  Finished\n",
      "5  A002   Project 6   680000    Failed\n",
      "6  A003   Project 7   400000  Finished\n",
      "7  A005   Project 8   350000    Failed\n",
      "8  A001   Project 9  2210312   Ongoing\n",
      "9  A003  Project 10  3000000  Finished\n"
     ]
    }
   ],
   "source": [
    "#Task 2\n",
    "\n",
    "# Read project.csv\n",
    "project_df = pd.read_csv('project.csv')\n",
    "\n",
    "# Identify missing values in 'Cost'\n",
    "missing_indices = project_df[project_df['Cost'].isnull()].index.tolist()\n",
    "\n",
    "# Compute running average and fill missing values\n",
    "for i in missing_indices:\n",
    "    # Calculate the average of existing 'Cost' values up to the current row\n",
    "    # If there are no non-NaN values before the current row, use the mean of all non-NaN values\n",
    "    prior_costs = project_df.loc[:i-1, 'Cost'].dropna()\n",
    "    if not prior_costs.empty:\n",
    "        running_avg = prior_costs.mean()\n",
    "    else:\n",
    "        # Fallback to overall mean if no prior costs are available\n",
    "        running_avg = project_df['Cost'].mean()\n",
    "    project_df.loc[i, 'Cost'] = running_avg\n",
    "\n",
    "# Convert 'Cost' to integer type after filling NaNs, as costs are typically whole numbers\n",
    "project_df['Cost'] = project_df['Cost'].astype(int)\n",
    "\n",
    "# Save the updated project_df\n",
    "project_df.to_csv('project.csv', index=False)\n",
    "\n",
    "print(\"\\nTask 2: Missing 'Cost' values in 'project.csv' filled using running average.\")\n",
    "print(project_df.head(10)) # Display first few rows to show the change"
   ]
  },
  {
   "cell_type": "code",
   "execution_count": 13,
   "id": "8eac32fa-1634-4488-a7ae-898cd28f908a",
   "metadata": {},
   "outputs": [
    {
     "name": "stdout",
     "output_type": "stream",
     "text": [
      "\n",
      "Task 3: 'Name' column split and removed from 'employee.csv'.\n",
      "     ID Gender     City  Age First Name  Last Name\n",
      "0  A001      M    Paris   25       John      Alter\n",
      "1  A002      F   London   27      Alice  Luxemburg\n",
      "2  A003      M   Berlin   29        Tom  Sabestine\n",
      "3  A004      F  Newyork   31       Nina      Adgra\n",
      "4  A005      F   Madrid   30        Amy      Johny\n"
     ]
    }
   ],
   "source": [
    "#Task 3\n",
    "\n",
    "# Read employee.csv\n",
    "employee_df = pd.read_csv('employee.csv')\n",
    "\n",
    "# Split 'Name' into 'First Name' and 'Last Name'\n",
    "employee_df[['First Name', 'Last Name']] = employee_df['Name'].str.split(' ', n=1, expand=True)\n",
    "\n",
    "# Remove the original 'Name' column\n",
    "employee_df = employee_df.drop('Name', axis=1)\n",
    "\n",
    "# Save the updated employee_df\n",
    "employee_df.to_csv('employee.csv', index=False)\n",
    "\n",
    "print(\"\\nTask 3: 'Name' column split and removed from 'employee.csv'.\")\n",
    "print(employee_df.head())"
   ]
  },
  {
   "cell_type": "code",
   "execution_count": 14,
   "id": "029d62f2-14e7-4212-a90b-1a125f8f9532",
   "metadata": {},
   "outputs": [
    {
     "name": "stdout",
     "output_type": "stream",
     "text": [
      "Task 4: All three DataFrames joined into 'Final' DataFrame.\n",
      "     ID Gender    City  Age First Name  Last Name  Designation Level  \\\n",
      "0  A001      M   Paris   25       John      Alter                  2   \n",
      "1  A001      M   Paris   25       John      Alter                  2   \n",
      "2  A001      M   Paris   25       John      Alter                  2   \n",
      "3  A002      F  London   27      Alice  Luxemburg                  2   \n",
      "4  A002      F  London   27      Alice  Luxemburg                  2   \n",
      "\n",
      "      Project     Cost    Status  \n",
      "0   Project 1  1002000  Finished  \n",
      "1   Project 9  2210312   Ongoing  \n",
      "2  Project 11  2000000    Failed  \n",
      "3   Project 2  2000000   Ongoing  \n",
      "4   Project 6   680000    Failed  \n"
     ]
    }
   ],
   "source": [
    "#Task 4\n",
    "\n",
    "# Read all three dataframes\n",
    "project_df = pd.read_csv('project.csv')\n",
    "employee_df = pd.read_csv('employee.csv')\n",
    "seniority_df = pd.read_csv('seniority.csv')\n",
    "\n",
    "# Merge employee and seniority dataframes first on 'ID'\n",
    "final_df = pd.merge(employee_df, seniority_df, on='ID', how='left')\n",
    "\n",
    "# Then merge with project dataframe on 'ID'\n",
    "final_df = pd.merge(final_df, project_df, on='ID', how='left')\n",
    "\n",
    "# Rename the dataframe to \"Final\"\n",
    "Final = final_df.copy() # Create a copy to explicitly name it Final\n",
    "\n",
    "# Save the Final DataFrame \n",
    "Final.to_csv('final.csv', index=False)\n",
    "\n",
    "print(\"Task 4: All three DataFrames joined into 'Final' DataFrame.\")\n",
    "print(Final.head())"
   ]
  },
  {
   "cell_type": "code",
   "execution_count": 15,
   "id": "4563bdbf-515d-4992-ac77-1b11e2ee6461",
   "metadata": {},
   "outputs": [
    {
     "name": "stdout",
     "output_type": "stream",
     "text": [
      "\n",
      "Task 5: 'Bonus' column added to 'Final' DataFrame.\n",
      "      Project    Status     Cost     Bonus\n",
      "0   Project 1  Finished  1002000   50100.0\n",
      "1   Project 9   Ongoing  2210312       0.0\n",
      "2  Project 11    Failed  2000000       0.0\n",
      "3   Project 2   Ongoing  2000000       0.0\n",
      "4   Project 6    Failed   680000       0.0\n",
      "5   Project 3  Finished  4500000  225000.0\n",
      "6   Project 7  Finished   400000   20000.0\n",
      "7  Project 10  Finished  3000000  150000.0\n",
      "8   Project 4   Ongoing  5500000       0.0\n",
      "9  Project 12   Ongoing  1000000       0.0\n"
     ]
    }
   ],
   "source": [
    "#Task 5\n",
    "\n",
    "# Read the Final DataFrame\n",
    "Final = pd.read_csv('final.csv')\n",
    "\n",
    "# Calculate bonus for finished projects\n",
    "# Ensure 'Cost' is numeric \n",
    "Final['Cost'] = pd.to_numeric(Final['Cost'])\n",
    "\n",
    "# Apply bonus only if 'Status' is 'Finished'\n",
    "Final['Bonus'] = np.where(Final['Status'] == 'Finished', Final['Cost'] * 0.05, 0)\n",
    "\n",
    "# Save the updated Final DataFrame\n",
    "Final.to_csv('final.csv', index=False)\n",
    "\n",
    "print(\"\\nTask 5: 'Bonus' column added to 'Final' DataFrame.\")\n",
    "print(Final[['Project', 'Status', 'Cost', 'Bonus']].head(10))"
   ]
  },
  {
   "cell_type": "code",
   "execution_count": 16,
   "id": "33156eea-15f4-4aad-9c6c-57884b9997e5",
   "metadata": {},
   "outputs": [
    {
     "name": "stdout",
     "output_type": "stream",
     "text": [
      "\n",
      "Task 6: Designation levels demoted and records with designation level > 4 deleted.\n",
      "     ID  Designation Level    Status\n",
      "0  A001                  1  Finished\n",
      "1  A001                  1   Ongoing\n",
      "2  A001                  1    Failed\n",
      "3  A002                  1   Ongoing\n",
      "4  A002                  1    Failed\n",
      "5  A003                  3  Finished\n",
      "6  A003                  3  Finished\n",
      "7  A003                  3  Finished\n",
      "8  A004                  2   Ongoing\n",
      "9  A004                  2   Ongoing\n"
     ]
    }
   ],
   "source": [
    "#Task 6\n",
    "\n",
    "# Read the Final DataFrame\n",
    "Final = pd.read_csv('final.csv')\n",
    "\n",
    "# Demote designation level for failed projects\n",
    "# Ensure 'Designation Level' is numeric\n",
    "Final['Designation Level'] = pd.to_numeric(Final['Designation Level'])\n",
    "\n",
    "# Get IDs of employees with failed projects\n",
    "failed_project_ids = Final[Final['Status'] == 'Failed']['ID'].unique()\n",
    "\n",
    "# Demote their designation level by 1\n",
    "# Let's assume 'Designation Level' in 'Final' should reflect the latest status for each employee.\n",
    "# We will demote the unique employee IDs linked to any failed project.\n",
    "\n",
    "for emp_id in failed_project_ids:\n",
    "    # Find the rows corresponding to this employee ID\n",
    "    emp_rows_index = Final[Final['ID'] == emp_id].index\n",
    "    # Demote the designation level for these rows if it's greater than 1\n",
    "    # We apply a max(1, current_level - 1) to ensure it doesn't go below 1\n",
    "    Final.loc[emp_rows_index, 'Designation Level'] = Final.loc[emp_rows_index, 'Designation Level'].apply(lambda x: max(1, x - 1))\n",
    "\n",
    "# Delete employee records whose designation level is above 4\n",
    "Final = Final[Final['Designation Level'] <= 4]\n",
    "\n",
    "# Save the updated Final DataFrame\n",
    "Final.to_csv('final.csv', index=False)\n",
    "\n",
    "print(\"\\nTask 6: Designation levels demoted and records with designation level > 4 deleted.\")\n",
    "print(Final[['ID', 'Designation Level', 'Status']].head(10))"
   ]
  },
  {
   "cell_type": "code",
   "execution_count": null,
   "id": "8cebb052-c59c-4d3b-8d58-2be7bc25b120",
   "metadata": {},
   "outputs": [
    {
     "name": "stdout",
     "output_type": "stream",
     "text": [
      "\n",
      "Task 7: 'Mr.'/'Mrs.' added to 'First Name' and 'Gender' column dropped.\n",
      "     ID  First Name  Last Name\n",
      "0  A001    Mr. John      Alter\n",
      "1  A001    Mr. John      Alter\n",
      "2  A001    Mr. John      Alter\n",
      "3  A002  Mrs. Alice  Luxemburg\n",
      "4  A002  Mrs. Alice  Luxemburg\n"
     ]
    }
   ],
   "source": [
    "#Task 7\n",
    "\n",
    "# Read the Final DataFrame\n",
    "Final = pd.read_csv('final.csv')\n",
    "\n",
    "# Add \"Mr.\" or \"Mrs.\" to the \"First Name\" column\n",
    "\n",
    "Final['First Name'] = Final.apply(lambda row: 'Mr. ' + row['First Name'] if row['Gender'] == 'M' else 'Mrs. ' + row['First Name'], axis=1)\n",
    "\n",
    "# Drop the 'Gender' column\n",
    "Final = Final.drop('Gender', axis=1)\n",
    "\n",
    "# Save the updated Final DataFrame\n",
    "Final.to_csv('final.csv', index=False)\n",
    "\n",
    "print(\"\\nTask 7: 'Mr.'/'Mrs.' added to 'First Name' and 'Gender' column dropped.\")\n",
    "print(Final[['ID', 'First Name', 'Last Name']].head())"
   ]
  },
  {
   "cell_type": "code",
   "execution_count": null,
   "id": "7ffdf862-0e15-4434-9ce4-05b39046db73",
   "metadata": {},
   "outputs": [
    {
     "name": "stdout",
     "output_type": "stream",
     "text": [
      "\n",
      "Task 8: Designation level promoted for employees older than 29.\n",
      "     ID  Age  Designation Level\n",
      "0  A001   25                  1\n",
      "1  A001   25                  1\n",
      "2  A001   25                  1\n",
      "3  A002   27                  1\n",
      "4  A002   27                  1\n",
      "5  A003   29                  3\n",
      "6  A003   29                  3\n",
      "7  A003   29                  3\n",
      "8  A004   31                  6\n",
      "9  A004   31                  6\n"
     ]
    }
   ],
   "source": [
    "#Task 8\n",
    "\n",
    "# Read the Final DataFrame\n",
    "Final = pd.read_csv('final.csv')\n",
    "\n",
    "# Ensure 'Age' and 'Designation Level' are numeric\n",
    "Final['Age'] = pd.to_numeric(Final['Age'])\n",
    "Final['Designation Level'] = pd.to_numeric(Final['Designation Level'])\n",
    "\n",
    "# Promote designation level by 1 for employees older than 29\n",
    "# We'll use a direct conditional assignment to modify the 'Designation Level'.\n",
    "#  only promote those where Age > 29.\n",
    "# We also want to make sure we don't over-promote if an employee appears multiple times due to multiple projects.\n",
    "# To ensure each unique employee is promoted only once, we can identify unique IDs first, then apply.\n",
    "\n",
    "# Apply promotion only for employees where age is > 29.\n",
    "# We will increment their designation level by 1.\n",
    "\n",
    "Final.loc[Final['Age'] > 29, 'Designation Level'] += 1\n",
    "\n",
    "# Save the updated Final DataFrame\n",
    "Final.to_csv('final.csv', index=False)\n",
    "\n",
    "print(\"\\nTask 8: Designation level promoted for employees older than 29.\")\n",
    "print(Final[['ID', 'Age', 'Designation Level']].head(10))"
   ]
  },
  {
   "cell_type": "code",
   "execution_count": 22,
   "id": "a4ce8c83-c003-4712-b937-92ee723fc6bd",
   "metadata": {},
   "outputs": [
    {
     "name": "stdout",
     "output_type": "stream",
     "text": [
      "\n",
      "Task 9: 'TotalProjCost' DataFrame created and saved.\n",
      "     ID  First Name  Total cost\n",
      "0  A001    Mr. John     5212312\n",
      "1  A002  Mrs. Alice     2680000\n",
      "2  A003     Mr. Tom     7900000\n",
      "3  A004   Mrs. Nina     9500000\n",
      "4  A005    Mrs. Amy     5600500\n"
     ]
    }
   ],
   "source": [
    "#Task 9\n",
    "\n",
    "# Read the Final DataFrame\n",
    "Final = pd.read_csv('final.csv')\n",
    "\n",
    "# Ensure 'Cost' is numeric\n",
    "Final['Cost'] = pd.to_numeric(Final['Cost'])\n",
    "\n",
    "# Group by 'ID' and 'First Name' and sum 'Cost'\n",
    "TotalProjCost = Final.groupby(['ID', 'First Name'])['Cost'].sum().reset_index()\n",
    "\n",
    "# Rename the 'Cost' column to 'Total cost'\n",
    "TotalProjCost = TotalProjCost.rename(columns={'Cost': 'Total cost'})\n",
    "\n",
    "# Save the new DataFrame\n",
    "TotalProjCost.to_csv('TotalProjCost.csv', index=False)\n",
    "\n",
    "print(\"\\nTask 9: 'TotalProjCost' DataFrame created and saved.\")\n",
    "print(TotalProjCost.head())"
   ]
  },
  {
   "cell_type": "code",
   "execution_count": 23,
   "id": "9cfd1b44-c11e-4426-862a-ac839e9caa0a",
   "metadata": {},
   "outputs": [
    {
     "name": "stdout",
     "output_type": "stream",
     "text": [
      "\n",
      "Task 10: Employee details whose city name contains the letter 'o':\n",
      "      ID     City  Age  First Name  Last Name  Designation Level     Project  \\\n",
      "3   A002   London   27  Mrs. Alice  Luxemburg                  1   Project 2   \n",
      "4   A002   London   27  Mrs. Alice  Luxemburg                  1   Project 6   \n",
      "8   A004  Newyork   31   Mrs. Nina      Adgra                  6   Project 4   \n",
      "9   A004  Newyork   31   Mrs. Nina      Adgra                  6  Project 12   \n",
      "10  A004  Newyork   31   Mrs. Nina      Adgra                  6  Project 13   \n",
      "\n",
      "       Cost    Status     Bonus  \n",
      "3   2000000   Ongoing       0.0  \n",
      "4    680000    Failed       0.0  \n",
      "8   5500000   Ongoing       0.0  \n",
      "9   1000000   Ongoing       0.0  \n",
      "10  3000000  Finished  150000.0  \n"
     ]
    }
   ],
   "source": [
    "#Task 10\n",
    "\n",
    "# Read the Final DataFrame\n",
    "Final = pd.read_csv('final.csv')\n",
    "\n",
    "# Filter for cities containing the letter 'o' (case-insensitive)\n",
    "employees_with_o_in_city = Final[Final['City'].str.contains('o', case=False, na=False)]\n",
    "\n",
    "print(\"\\nTask 10: Employee details whose city name contains the letter 'o':\")\n",
    "print(employees_with_o_in_city)"
   ]
  },
  {
   "cell_type": "code",
   "execution_count": null,
   "id": "4cfdd4f6-3f43-4d58-8fd5-96709be9b25a",
   "metadata": {},
   "outputs": [],
   "source": []
  }
 ],
 "metadata": {
  "kernelspec": {
   "display_name": "Python 3 (ipykernel)",
   "language": "python",
   "name": "python3"
  },
  "language_info": {
   "codemirror_mode": {
    "name": "ipython",
    "version": 3
   },
   "file_extension": ".py",
   "mimetype": "text/x-python",
   "name": "python",
   "nbconvert_exporter": "python",
   "pygments_lexer": "ipython3",
   "version": "3.13.0"
  },
  "widgets": {
   "application/vnd.jupyter.widget-state+json": {
    "state": {},
    "version_major": 2,
    "version_minor": 0
   }
  }
 },
 "nbformat": 4,
 "nbformat_minor": 5
}
